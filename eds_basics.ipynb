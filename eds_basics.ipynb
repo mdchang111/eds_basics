{
 "cells": [
  {
   "cell_type": "markdown",
   "metadata": {},
   "source": [
    "### Setting up the script functions\n",
    "#### Loading packages\n",
    "The majority of these packages come with most Python distributions, if you don't have any installed I recommend Anaconda to get you started. You will need to install the hyperspy package though, details on how to do that are on the webpage (http://hyperspy.org/hyperspy-doc/current/user_guide/install.html)"
   ]
  },
  {
   "cell_type": "code",
   "execution_count": null,
   "metadata": {},
   "outputs": [],
   "source": [
    "import hyperspy.api as hs\n",
    "import numpy as np\n",
    "from scipy import ndimage as ndi\n",
    "import os\n",
    "import glob\n",
    "\n",
    "import math"
   ]
  },
  {
   "cell_type": "markdown",
   "metadata": {},
   "source": [
    "These functions from matplotlib are for plotting our data, they're not absolutely necessary but are a nice touch"
   ]
  },
  {
   "cell_type": "code",
   "execution_count": null,
   "metadata": {},
   "outputs": [],
   "source": [
    "import matplotlib.pyplot as plt\n",
    "from matplotlib_scalebar.scalebar import ScaleBar\n",
    "from matplotlib_scalebar.scalebar import SI_LENGTH_RECIPROCAL\n",
    "\n",
    "import matplotlib.patches as mpatches\n",
    "from matplotlib import colors\n",
    "from matplotlib import gridspec\n",
    "%matplotlib notebook"
   ]
  },
  {
   "cell_type": "markdown",
   "metadata": {},
   "source": [
    "#### Colourbars\n",
    "The standard Esprit style colourmaps that go from black to a given colour (with 100% opacity) aren't in matplotlib's colourmpa library so you can either use some of their native colourmaps, 'viridis' and 'magma' are ones I'd recommend, with the rest listed here: https://matplotlib.org/tutorials/colors/colormaps.html). \\\\\n",
    "\n",
    "If you want to be consistent with Esprit where you assign each element a colour this function will allow you to create your own colourmap:"
   ]
  },
  {
   "cell_type": "code",
   "execution_count": null,
   "metadata": {},
   "outputs": [],
   "source": [
    "from matplotlib.colors import ListedColormap\n",
    "def create_cbar(R,G,B,A,N):\n",
    "    vals = np.ones((N, 4))\n",
    "    vals[:, 0] = np.linspace(R[0]/N, R[1]/N, N)\n",
    "    vals[:, 1] = np.linspace(G[0]/N, G[1]/N, N)\n",
    "    vals[:, 2] = np.linspace(B[0]/N, B[1]/N, N)\n",
    "    vals[:, 3] = np.linspace(A[0]/N, A[1]/N, N)\n",
    "    return ListedColormap(vals)"
   ]
  },
  {
   "cell_type": "code",
   "execution_count": null,
   "metadata": {},
   "outputs": [],
   "source": [
    "blue=create_cbar([0,0],[0,0],[0,255],[256,256],256)\n",
    "green=create_cbar([0,0],[0,255],[0,0],[256,256],256)\n",
    "red=create_cbar([0,255],[0,0],[0,0],[256,256],256)\n",
    "\n",
    "cyan=create_cbar([0,0],[0,255],[0,255],[256,256],256)\n",
    "yellow=create_cbar([0,255],[0,255],[0,0],[256,256],256)\n",
    "magenta=create_cbar([0,255],[0,0],[0,255],[256,256],256)\n",
    "\n",
    "# You can create a list of these colourmaps to reference when plotting later\n",
    "cbars=[yellow,magenta,blue,cyan,red,green]\n",
    "clrs=['y','m','b','c','r','g']"
   ]
  },
  {
   "cell_type": "markdown",
   "metadata": {},
   "source": [
    "### File types\n",
    "One advantage of python is that we can batch import multiple bcfs and process them in bulk while outputting relevant data to individual folders for each or we take one single spectrum image process it step-by-step, recording data at each step. \n",
    "#### Esprit/Velox\n",
    "This script will only consider processing of bcf files for the time being, though the Velox ('.emd' I think) files are extremely similar and you'd only need to make minor modifications to work with them. Bruker files can be readily imported by hyperspy to give a list consisting of ADF image and the spectrum image (Velox somewhat similar but will likely contain additional entries for any a survey image and any maps/ROIs plotted).\n",
    "#### Digital Micrograph\n",
    "DigitalMicrograph files are similar in that each .dm3 file (one for each of ADF, EDS, LL-EELS, CL-EELS, etc.) can be imported and processed easily enough. Files imported from dm3s into hyperspy will have less metadata than bcf though (not sure whether DM writes less, or hyperspy reads less).\n",
    "#### Aztec\n",
    "Aztec files cannot directly be imported for time being (apparently a convenient hyperspy-friendly format is in the works) but there is a (slightly awkward) workaround. In Aztec you can export each spectrum image within a project as in '.raw'/'.rpl' format. This gives two files, one containing the numerical data and the other containing headers which refer to the data (similar to .ser and .emi from FEI). The .rpl file can be read by hyperspy (provided corresponding .raw file is in the same directory with the same name) however it doesn't include any calibration nor metadata. To calibrate the spatial and energy axes you then need to go to Aztec to find them, then manually enter them in hyperspy's axes_manager for each file. You can export a export a summed spectra from Aztec, import it as a .emsa file alongside the .rpl file, then use it to calibrate the energy axis and give some metadata.\n",
    "\n",
    "\n",
    "### Loading files\n",
    "Here I'll go through batch loading of files, but with individual processing of each. Batch processing is relatively straight forward once you understand how the script works, you can just loop each function as appropriate, store the data you want to carry on and save plots where necessary.\n",
    "\n",
    "Alongside this script there are a few sub-directories containing bcf files of FePS$_{3}$ flakes that can be used as examples in this script. Alternatively you can modify where appropriate to input your own files. \n",
    "\n",
    "To start we'll use a tool called glob to look through a specified directory (in this case the current directory where the .ipynb is located) and find all filenames that end in .bcf"
   ]
  },
  {
   "cell_type": "code",
   "execution_count": null,
   "metadata": {},
   "outputs": [],
   "source": [
    "fs = [f for f in glob.glob(\"**/*.bcf\", recursive=True)]"
   ]
  },
  {
   "cell_type": "code",
   "execution_count": null,
   "metadata": {},
   "outputs": [],
   "source": [
    "fs"
   ]
  },
  {
   "cell_type": "markdown",
   "metadata": {},
   "source": [
    "From here we'll take 'map4-15min-100us-180pA\\\\4.bcf' as an example. It's list index is 3 (python will index lists from 0)"
   ]
  },
  {
   "cell_type": "code",
   "execution_count": null,
   "metadata": {},
   "outputs": [],
   "source": [
    "i=3"
   ]
  },
  {
   "cell_type": "markdown",
   "metadata": {},
   "source": [
    "This will create a save folder with a similar name within the directory of the .bcf file"
   ]
  },
  {
   "cell_type": "code",
   "execution_count": null,
   "metadata": {},
   "outputs": [],
   "source": [
    "f=fs[i]\n",
    "f_name=fs[i].split(r'.')[0]"
   ]
  },
  {
   "cell_type": "code",
   "execution_count": null,
   "metadata": {},
   "outputs": [],
   "source": [
    "savefolder=f_name[:]+r'_Output'\n",
    "if not os.path.exists(savefolder):\n",
    "    os.makedirs(savefolder)"
   ]
  },
  {
   "cell_type": "markdown",
   "metadata": {},
   "source": [
    "The file is then loaded (this could take a while for very large files)"
   ]
  },
  {
   "cell_type": "code",
   "execution_count": null,
   "metadata": {},
   "outputs": [],
   "source": [
    "s=hs.load(f)"
   ]
  },
  {
   "cell_type": "markdown",
   "metadata": {},
   "source": [
    "As mentioned before, two files are imported and we can separate these into the ADF image (im) and spectrum image (si)"
   ]
  },
  {
   "cell_type": "code",
   "execution_count": null,
   "metadata": {},
   "outputs": [],
   "source": [
    "im=hs.transpose(s[0])[0]\n",
    "si=s[1]"
   ]
  },
  {
   "cell_type": "markdown",
   "metadata": {},
   "source": [
    "#### Processing spectrum images\n",
    "#### Spatial calibration\n",
    "This is simply rescaling the ADF image and spectrum image to be calibrated in nm rather than microns (optional)"
   ]
  },
  {
   "cell_type": "code",
   "execution_count": null,
   "metadata": {},
   "outputs": [],
   "source": [
    "im.axes_manager.navigation_axes[0].units,im.axes_manager.navigation_axes[0].scale='nm',(hs.transpose(s[0])[0]).axes_manager.navigation_axes[0].scale\n",
    "im.axes_manager.navigation_axes[1].units,im.axes_manager.navigation_axes[1].scale='nm',(hs.transpose(s[0])[0]).axes_manager.navigation_axes[1].scale\n",
    "si.axes_manager.navigation_axes[0].units,si.axes_manager.navigation_axes[0].scale='nm',s[1].axes_manager.navigation_axes[0].scale*1000\n",
    "si.axes_manager.navigation_axes[1].units,si.axes_manager.navigation_axes[1].scale='nm',s[1].axes_manager.navigation_axes[1].scale*1000"
   ]
  },
  {
   "cell_type": "markdown",
   "metadata": {},
   "source": [
    "#### Binning\n",
    "Binning  is something that's often overlooked in Esprit but is extremely important for extracting data from your elemental/compositional maps as well as making sure elemental distributions are clearly visible. You can either spatially bin the spectrum image (binning along navigation axes) or spectrally bin the energy axis at each pixel (binning along signal axis)\n",
    "\n",
    "Here the SI will be binned by \\textit{bn} along x and y, and \\textit{bs} along the energy axis. Spatial binning will improve the signal at each pixel (boosting the number of counts), improving the overall SNR but will reduce the spatial resolution of your map. Binning the energy axes will also boost counts at each pixel but at the expense of spectral resolution, meaning peaks that are close together will merge and any maps derived will have severe problems. Practically speak the energy axes from 0 to 20 keV should have at least 512 channels, if not 1024."
   ]
  },
  {
   "cell_type": "code",
   "execution_count": null,
   "metadata": {},
   "outputs": [],
   "source": [
    "bn,bs=24,2 # here we're binning by 20 (x, y) and 3 (E)\n",
    "sr=si.rebin(scale=[bn,bn,bs])\n",
    "ir=im.rebin(scale=[bn,bn])"
   ]
  },
  {
   "cell_type": "markdown",
   "metadata": {},
   "source": [
    "You can crop the signal axis using .isig[lim1:lim2] where lim1 and lim2 are lower and upper limits in keV respectively (make sure you use decimals, integer values will crop to the channel values rather than energy values) "
   ]
  },
  {
   "cell_type": "code",
   "execution_count": null,
   "metadata": {},
   "outputs": [],
   "source": [
    "sr.isig[:].plot()"
   ]
  },
  {
   "cell_type": "markdown",
   "metadata": {},
   "source": [
    "### Elemental analysis\n",
    "#### Mapping x-ray counts\n",
    "If you added any elements to the spectrum image while acquiring data in Esprit (or Velox) they will be pre-loaded here, you can check in the SI metadata. Otherwise, or to add new elements/X-ray lines, you can set them based on a list of elements or X-ray counts (see below)."
   ]
  },
  {
   "cell_type": "code",
   "execution_count": null,
   "metadata": {},
   "outputs": [],
   "source": [
    "sr.metadata"
   ]
  },
  {
   "cell_type": "markdown",
   "metadata": {},
   "source": [
    "Hyperspy has a library of elemental information where you can look up energies of X-ray lines and atomic binding energies"
   ]
  },
  {
   "cell_type": "code",
   "execution_count": null,
   "metadata": {},
   "outputs": [],
   "source": [
    "hs.material.elements.Cu"
   ]
  },
  {
   "cell_type": "code",
   "execution_count": null,
   "metadata": {},
   "outputs": [],
   "source": [
    "sr.set_elements(['C','Cu','Fe','O','P','S']) # Try to keep lists of elements and X-ray lines alphabetical as their order is important later on!\n",
    "sr.set_lines(['C_Ka','Cu_Ka','Cu_La','Fe_Ka','Fe_La','O_Ka','P_Ka','S_Ka']) \n",
    "# Here we need to include the Cu and Fe L edges for accurate background subtraction later on \n",
    "# But we don't need to plot their intensities so they are exclude from the 'get_lines_intensity' function in the next cell"
   ]
  },
  {
   "cell_type": "markdown",
   "metadata": {},
   "source": [
    "First of all we'll map the X-rays by using the default peak fitting built-in to hyperspy. We do this using the get_lines_intensity feature, which can be used on either a sum spectra (spectra from every pixel summed into one overall spectrum) or on a spectrum image (giving a map of X-ray line intensities). \n",
    "\n",
    "#### Sum Spectrum\n",
    "In this cell the line intensities are measured from the sum spectrum for the lines within the get_lines_intensity function. We crop the energy axis to 0.1-10.0 keV for visual clarity and print the summed intensity value for each element."
   ]
  },
  {
   "cell_type": "code",
   "execution_count": null,
   "metadata": {},
   "outputs": [],
   "source": [
    "sr.isig[0.1:10.0].sum().plot(True)\n",
    "ints_sum=sr.sum().get_lines_intensity(['C_Ka','Cu_Ka','Fe_Ka','O_Ka','P_Ka','S_Ka'])\n",
    "for n in range(len(ints_sum)):\n",
    "    print(str(ints_sum[n].metadata.Sample.elements)[2:-2],'|',int(ints_sum[n].data))"
   ]
  },
  {
   "cell_type": "markdown",
   "metadata": {},
   "source": [
    "#### Elemental Mapping"
   ]
  },
  {
   "cell_type": "code",
   "execution_count": null,
   "metadata": {},
   "outputs": [],
   "source": [
    "ints=sr.get_lines_intensity(['C_Ka','Cu_Ka','Fe_Ka','O_Ka','P_Ka','S_Ka'])"
   ]
  },
  {
   "cell_type": "markdown",
   "metadata": {},
   "source": [
    "If the get_lines_intensity function is applied to a full spectrum image, it will output a list of elemental maps, one for each of the input X-ray lines (in this case ['C_Ka','Cu_Ka','Fe_Ka','O_Ka','P_Ka','S_Ka']). The next cell will plot each elemental map individually and save them as both .png and .svg files to the specified save folder.\n",
    "\n",
    "The scalebar will be automatically read from the (rebinned) SI axes_manager and the titles from the metadata. "
   ]
  },
  {
   "cell_type": "markdown",
   "metadata": {},
   "source": [
    "#### Saving maps individually"
   ]
  },
  {
   "cell_type": "code",
   "execution_count": null,
   "metadata": {
    "scrolled": false
   },
   "outputs": [],
   "source": [
    "for n in range(len(ints)): \n",
    "    fig, axs = plt.subplots(nrows=1,ncols=1)\n",
    "    fig.set_size_inches(5.0,3.0)\n",
    "    axs.set_title(str(ints[n].metadata.Sample.elements)[2:-2])\n",
    "    axs.set_aspect('equal')\n",
    "    axs.set_xticks([])\n",
    "    axs.set_yticks([])\n",
    "    plt.gca().add_artist(ScaleBar(sr.axes_manager.navigation_axes[0].scale,units='nm',frameon=False,color='white',location='lower right'))\n",
    "    plt.colorbar(axs.imshow(ints[n],cmap=cbars[n],interpolation=None),ax=axs) # To interpolate image set interpolation equal to any of 'nearest', bicubic', 'bilinear', etc,\n",
    "    # If you would rather use a matplotlib colourmap you need to set cmap='viridis' (or whichever you choose)\n",
    "        \n",
    "    plt.tight_layout()\n",
    "    plt.savefig(savefolder+'/'+str(ints[n].metadata.Sample.elements)[2:-2]+'.png')\n",
    "    plt.savefig(savefolder+'/'+str(ints[n].metadata.Sample.elements)[2:-2]+'.svg') \n",
    "    # Scalable vector graphics (svg) files are the best way to export images as you will be able to \n",
    "    # rescale features, modify text, add/remove titles/scalebars/colourbars, recolour channels, etc.\n",
    "    # They can be opened in InkScape (or Adobe Illustrator)\n",
    "    # It's also useful to save them as png so they can be previewed quickly"
   ]
  },
  {
   "cell_type": "markdown",
   "metadata": {},
   "source": [
    "#### Multi-panel figures\n",
    "In a lot of cases it's easier to just produce a single multi-panel figure that you can edit later. Depending on the number of elements you're interested in, your plots will need adjusting (number of columns, rows, sizes). "
   ]
  },
  {
   "cell_type": "code",
   "execution_count": null,
   "metadata": {},
   "outputs": [],
   "source": [
    "nr,nc=2,3\n",
    "fig, axs = plt.subplots(nrows=nr,ncols=nc)\n",
    "fig.set_size_inches(10.0, 4.5) # change the size of the plot\n",
    "for n in np.arange(0,nc,1): \n",
    "\n",
    "    #axs[0][n].imshow(ints[n],cmap=cbars[n])\n",
    "    axs[0][n].set_title(str(ints[n].metadata.Sample.elements)[2:-2]+r' K$\\alpha$')\n",
    "    axs[0][n].set_aspect('equal')\n",
    "    axs[0][n].set_xticks([])\n",
    "    axs[0][n].set_yticks([])\n",
    "    plt.gca().add_artist(ScaleBar(sr.axes_manager.navigation_axes[0].scale,units='nm',frameon=False,color='white',location='lower right'))\n",
    "    plt.colorbar(axs[0][n].imshow(ints[n],cmap=cbars[n]),ax=axs[0][n])\n",
    "    \n",
    "    axs[1][n].imshow(ints[n+3],cmap=cbars[n])\n",
    "    axs[1][n].set_title(str(ints[n+nc].metadata.Sample.elements)[2:-2]+r' K$\\alpha$')\n",
    "    axs[1][n].set_xticks([])\n",
    "    axs[1][n].set_yticks([])\n",
    "    plt.colorbar(axs[1][n].imshow(ints[n+3],cmap=cbars[n+nc]),ax=axs[1][n])\n",
    "    \n",
    "plt.tight_layout()\n",
    "plt.savefig(savefolder+'/01_eds_counts.png')\n",
    "plt.savefig(savefolder+'/01_eds_counts.svg')"
   ]
  },
  {
   "cell_type": "markdown",
   "metadata": {},
   "source": [
    "#### Background subtraction\n",
    "Removal of background (bremmstrahlung) is mandatory before performing quantification on EDS spectra (and spectrum images). The windows method is fairly straightforward to implement so we'll use it here. The idea is to measure counts either side of each X-ray lines (these measured areas are the 'windows') and take the average of both as being the background height beneath X-ray peak. This can then be subtracted from X-ray counts measured using 'get_lines_intensity'.\n",
    "\n",
    "An alternative method is to fit a model based on Gaussians (for X-ray peaks) and a PowerLaw background to the spectrum. X-ray intensities are then measured from the model components rather than the raw spectrum. I will get around to including it in a future version of this notebook but for now we'll stick with the windows method.\n",
    "\n",
    "You need to be careful choosing the width of you background windows (windows_width) and where they are relative to the X-ray lines (line_width). As you we have input all X-ray lines present (including the Fe and Cu L lines) into the spectrum image metadata, hyperspy's estimate_background_windows function knows not to place windows where X-ray lines are. If you haven't accounted for all peaks present your background subtraction will be faulty and you may end up with a lot of negative X-ray counts."
   ]
  },
  {
   "cell_type": "code",
   "execution_count": null,
   "metadata": {
    "scrolled": false
   },
   "outputs": [],
   "source": [
    "bw=sr.estimate_background_windows(line_width=[1.0,1.0],windows_width=0.5)\n",
    "sr.isig[:].plot(True,background_windows=bw)"
   ]
  },
  {
   "cell_type": "code",
   "execution_count": null,
   "metadata": {},
   "outputs": [],
   "source": [
    "ints_b=sr.get_lines_intensity(['C_Ka','Cu_Ka','Fe_Ka','O_Ka','P_Ka','S_Ka'],background_windows=bw)"
   ]
  },
  {
   "cell_type": "markdown",
   "metadata": {},
   "source": [
    "In this case our subtraction isn't 100% perfect in that a few pixels show -1 oxygen counts as there is very little O present. As there are only a few small negative values we can just set them equal to 0 in the cell below"
   ]
  },
  {
   "cell_type": "code",
   "execution_count": null,
   "metadata": {},
   "outputs": [],
   "source": [
    "for n in range(len(ints_b)):\n",
    "    ints_b[n].data[ints_b[n].data<0]=0"
   ]
  },
  {
   "cell_type": "code",
   "execution_count": null,
   "metadata": {},
   "outputs": [],
   "source": [
    "fig, axs = plt.subplots(nrows=nr,ncols=nc)\n",
    "fig.set_size_inches(10.0, 4.5) # change the size of the plot\n",
    "for n in np.arange(0,nc,1): \n",
    "\n",
    "    #axs[0][n].imshow(ints[n],cmap=cbars[n])\n",
    "    axs[0][n].set_title(str(ints[n].metadata.Sample.elements)[2:-2]+r' K$\\alpha$')\n",
    "    axs[0][n].set_aspect('equal')\n",
    "    axs[0][n].set_xticks([])\n",
    "    axs[0][n].set_yticks([])\n",
    "    plt.gca().add_artist(ScaleBar(sr.axes_manager.navigation_axes[0].scale,units='nm',frameon=False,color='white',location='lower right'))\n",
    "    plt.colorbar(axs[0][n].imshow(ints_b[n],cmap=cbars[n]),ax=axs[0][n])\n",
    "    \n",
    "    #axs[1][n].imshow(ints[n+3],cmap=cbars[n])\n",
    "    axs[1][n].set_title(str(ints[n+nc].metadata.Sample.elements)[2:-2]+r' K$\\alpha$')\n",
    "    axs[1][n].set_xticks([])\n",
    "    axs[1][n].set_yticks([])\n",
    "    plt.colorbar(axs[1][n].imshow(ints_b[n+3],cmap=cbars[n+nc]),ax=axs[1][n])\n",
    "    \n",
    "plt.tight_layout()\n",
    "plt.savefig(savefolder+'/02_eds_counts_bkg.png')\n",
    "plt.savefig(savefolder+'/02_eds_counts_bkg.svg')"
   ]
  },
  {
   "cell_type": "markdown",
   "metadata": {},
   "source": [
    "### Quantification\n",
    "We're going to use the Cliff-Lorimer method, where k-factors are used to calculate atomic (or weight) percentages. K-factors for each element are calculated by comparison to a common k-factor, in this case we're going to use theoretical k-factors from the Titan (calculated by Bruker) that are evaluated relative to Si. I've got a list of these I'll put in the group Dropbox for you to check.\n",
    "\n",
    "K-factors are loaded as a list in the same order as your intensities were measured. Similar to get_lines_intensity, the quantification function will produced either singular values for each element if a sum spectrum is used, or compositional maps if a spectrum image is input."
   ]
  },
  {
   "cell_type": "code",
   "execution_count": null,
   "metadata": {},
   "outputs": [],
   "source": [
    "kfacs=[2.672,1.823,1.471,1.172,1.090,1.040]\n",
    "comp=sr.quantification(intensities=ints_b,method='CL',factors=kfacs,composition_units='atomic')\n",
    "# Set composition_units='weight' if you want results in wt%"
   ]
  },
  {
   "cell_type": "code",
   "execution_count": null,
   "metadata": {},
   "outputs": [],
   "source": [
    "fig, axs = plt.subplots(nrows=2,ncols=3)\n",
    "fig.set_size_inches(9.5, 5.5)\n",
    "\n",
    "for n in np.arange(0,3,1):\n",
    "\n",
    "    #axs[0][n].imshow(ints[n],cmap=cbars[n])\n",
    "    axs[0][n].set_title(str(comp[n].metadata.Sample.elements)[2:-2]+r' K$\\alpha$')\n",
    "    axs[0][n].set_aspect('equal')\n",
    "    axs[0][n].set_xticks([])\n",
    "    axs[0][n].set_yticks([])\n",
    "    plt.gca().add_artist(ScaleBar(sr.axes_manager.navigation_axes[0].scale,units='nm',frameon=False,color='white',location='lower right'))\n",
    "    plt.colorbar(axs[0][n].imshow(comp[n],cmap=cbars[n],vmin=0),ax=axs[0][n])\n",
    "    \n",
    "    #axs[1][n].imshow(ints[n+3],cmap=cbars[n])\n",
    "    axs[1][n].set_title(str(comp[n+3].metadata.Sample.elements)[2:-2]+r' K$\\alpha$')\n",
    "    axs[1][n].set_xticks([])\n",
    "    axs[1][n].set_yticks([])\n",
    "    plt.colorbar(axs[1][n].imshow(comp[n+3],cmap=cbars[n+3],vmin=0),ax=axs[1][n])\n",
    "    \n",
    "plt.tight_layout()\n",
    "plt.savefig(savefolder+r'\\03_eds_comps.png')\n",
    "plt.savefig(savefolder+r'\\03_eds_comps.svg')"
   ]
  },
  {
   "cell_type": "markdown",
   "metadata": {},
   "source": [
    "### Extra features\n",
    "The next section is just a few extra features hyperspy is capable of that aren't as easily implemented in Esprit (or Velox). They're just here to serve as an example, feel free to modify and develop them as much as you like. Over the next few weeks I'll be putting together notebooks that expand on the material covered here and that will look at more advanced capabilities.\n",
    "\n",
    "#### Masking\n",
    "It's clear from the maps that we have a well-defined flake that consists of Fe, P and S. In addition we can also see the carbon film and some oxygen dispersed over the specimen, as well as spurious Cu counts from the copper grid bars. We are only really concerned with Fe, P, S and O (these flakes tend to degrade in air, causing S to be ejected as the flake surface/edges oxidise). As such, we'll spatial mask all the elemental signals so that only X-rays emitted from the flake area are considered.\n",
    "\n",
    "This could also be done based on X-ray counts before quantification with similar effects."
   ]
  },
  {
   "cell_type": "code",
   "execution_count": null,
   "metadata": {},
   "outputs": [],
   "source": [
    "thresh=np.median(comp[5].data) # This threshold determines which pixels are included in the mask,\n",
    "mask=(comp[5].data>thresh)     # here I've set it to the median of the S counts but you can put any number in\n",
    "mask=ndi.morphology.binary_fill_holes(mask).astype(int)\n",
    "plt.figure(figsize=(4.5,4.5))\n",
    "plt.imshow(mask)\n",
    "title=plt.title('Mask based on '+str(comp[5].metadata.Sample.elements)[2:-2]+' %, thresh ='+str(np.round(thresh,2)))"
   ]
  },
  {
   "cell_type": "markdown",
   "metadata": {},
   "source": [
    "We then replot the compositional maps (this could also be done for the X-ray count maps) multiplied by the binary mask. Everywhere the mask is 0, the corresponding pixel in the compositional map is also set to zero"
   ]
  },
  {
   "cell_type": "code",
   "execution_count": null,
   "metadata": {},
   "outputs": [],
   "source": [
    "fig, axs = plt.subplots(nrows=2,ncols=3)\n",
    "fig.set_size_inches(9.5, 5.5)\n",
    "\n",
    "for n in np.arange(0,3,1):\n",
    "\n",
    "    #axs[0][n].imshow(ints[n],cmap=cbars[n])\n",
    "    axs[0][n].set_title(str(comp[n].metadata.Sample.elements)[2:-2]+r' K$\\alpha$')\n",
    "    axs[0][n].set_aspect('equal')\n",
    "    axs[0][n].set_xticks([])\n",
    "    axs[0][n].set_yticks([])\n",
    "    plt.gca().add_artist(ScaleBar(sr.axes_manager.navigation_axes[0].scale,units='nm',frameon=False,color='white',location='lower right'))\n",
    "    plt.colorbar(axs[0][n].imshow(comp[n]*mask,cmap=cbars[n],vmin=0),ax=axs[0][n])\n",
    "    \n",
    "    #axs[1][n].imshow(ints[n+3],cmap=cbars[n])\n",
    "    axs[1][n].set_title(str(comp[n+3].metadata.Sample.elements)[2:-2]+r' K$\\alpha$')\n",
    "    axs[1][n].set_xticks([])\n",
    "    axs[1][n].set_yticks([])\n",
    "    plt.colorbar(axs[1][n].imshow(comp[n+3]*mask,cmap=cbars[n+3],vmin=0),ax=axs[1][n])\n",
    "\n",
    "plt.savefig(savefolder+r'\\04_eds_comps_masked.png')\n",
    "plt.savefig(savefolder+r'\\04_eds_comps_masked.svg')"
   ]
  },
  {
   "cell_type": "markdown",
   "metadata": {},
   "source": [
    "#### Line profiles"
   ]
  },
  {
   "cell_type": "code",
   "execution_count": null,
   "metadata": {
    "code_folding": []
   },
   "outputs": [],
   "source": [
    "def length(i,o):\n",
    "    l=math.sqrt((i[0]-o[0])**2+(i[1]-o[1])**2)\n",
    "    return l\n",
    "\n",
    "def t_measure(im,i,o):\n",
    "    num = np.round(length([i[1],i[0]],[o[1],o[0]]),2)\n",
    "    xl, yl = np.linspace(i[1],o[1],num),np.linspace(i[0],o[0],num)\n",
    "    z = ndi.map_coordinates(np.transpose(im), np.vstack((xl,yl)))\n",
    "    return z"
   ]
  },
  {
   "cell_type": "markdown",
   "metadata": {},
   "source": [
    "To extract a line profile mirrored across each elemental map, we need to input the beginning and end coordinates of the line profile (i and o respectively). These are then plotted as red squares on the ADF image with a dashed line showing the profile length in the figure's left panel. You can adjust i and o and make sure they're in the right locations based on the marked image.\n",
    "\n",
    "The right panel then plots the atomic (or weight) percent at each distance along the profile, with horizontal dotted lines showing the median value for each element (which is listed numerically in the legend normalised to Fe composition). "
   ]
  },
  {
   "cell_type": "code",
   "execution_count": null,
   "metadata": {
    "scrolled": false
   },
   "outputs": [],
   "source": [
    "i=(4,4)#(15,24)\n",
    "o=(27,23)#(15,5)\n",
    "\n",
    "plt.figure(figsize=(9.0,3.0),tight_layout=True)\n",
    "plt.subplot(1,2,1)\n",
    "plt.imshow(ir*mask)\n",
    "plt.title('Masked ADF')\n",
    "scaleb=ScaleBar(dx=ir.axes_manager.navigation_axes[0].scale,units='nm',dimension='si-length',location='lower left')\n",
    "plt.gca().add_artist(scaleb)\n",
    "plt.scatter([i[0],o[0]],[i[1],o[1]],marker='s',color='r')\n",
    "plt.plot([i[0],o[0]],[i[1],o[1]],color='r',linestyle='dashed')\n",
    "#plt.text(x=ir.data.shape[1]*0.87,y=ir.data.shape[0]*0.05,s='DF-STEM',color='white',weight='bold',size=11)\n",
    "\n",
    "plt.subplot(1,2,2)\n",
    "for n in np.arange(2,len(comp),1):\n",
    "    distances=np.linspace(0,length(i,o)*sr.axes_manager.navigation_axes[0].scale,len(t_measure(comp[n],i,o)))\n",
    "    plt.scatter(distances,t_measure(comp[n]*mask,i,o),color=clrs[n],marker='s',s=8)\n",
    "    plt.hlines(y=np.median(t_measure(comp[n]*mask,i,o)),xmin=distances[0],xmax=distances[-1],color=clrs[n],linestyle='dotted',label='_nolegend_')\n",
    "    plt.ylabel('Composition (atomic %)')\n",
    "    plt.xlabel('Distance (nm)')\n",
    "    \n",
    "avs=[]\n",
    "for n in np.arange(2,len(comp),1):\n",
    "    avs.append(str(comp[n].metadata.Sample.elements)[2:-2]+': '+str(np.round(np.median(t_measure(comp[n]*mask,i,o)/np.median(t_measure(comp[2]*mask,i,o))),2)))\n",
    "plt.legend(avs,loc='upper center',ncol=4,fontsize=8)\n",
    "\n",
    "plt.savefig(savefolder+r'\\05_lp.png')\n",
    "plt.savefig(savefolder+r'\\05_lp.svg')"
   ]
  },
  {
   "cell_type": "markdown",
   "metadata": {},
   "source": [
    "#### Compositional statistics from the spectrum image\n",
    "The line profile above shows that the compositions of each element varies quite a bit over distances. To visualise the spread of these values we can produce histograms based all pixels within the spectrum image. To do this we first convert the hyperspy objects into flattened arrays (1D arrays where rather than the pixels being arranged in two dimensions, as in a spectrum image, they are listed along one dimension). \n",
    "\n",
    "We then set all 0 values (from the unmasked areas) to 'NaN' so they aren't included in the plots"
   ]
  },
  {
   "cell_type": "code",
   "execution_count": null,
   "metadata": {},
   "outputs": [],
   "source": [
    "hcomp=[]\n",
    "for n in range(2,len(comp)):\n",
    "    s=(comp[n].data*mask).flatten()\n",
    "    s[s==0]='NaN'\n",
    "    hcomp.append(s)"
   ]
  },
  {
   "cell_type": "markdown",
   "metadata": {},
   "source": [
    "Finally we can plot the histograms. In this case we've just plotted Fe, P and S, hence we run the for loop over indices [0,2,3]. If you want to include O just add 1 to the list."
   ]
  },
  {
   "cell_type": "code",
   "execution_count": null,
   "metadata": {
    "scrolled": false
   },
   "outputs": [],
   "source": [
    "lbls=['Fe','O','P','S',]\n",
    "hclrs=['red','cyan','blue','green']\n",
    "\n",
    "plt.figure(figsize=(9.0,4.0))\n",
    "for n in [0,2,3]:\n",
    "    mean=np.nanmean(hcomp[n]/np.nanmean(hcomp[0]))\n",
    "    std=np.nanstd(hcomp[n]/np.nanmean(hcomp[0]))\n",
    "    h=plt.hist(hcomp[n]/np.nanmean(hcomp[0]),bins=75,range=(0.0,5.0),alpha=0.5,linewidth=2.0,\n",
    "               color=hclrs[n],edgecolor=hclrs[n],label=lbls[n]+': '+str(np.round(mean,2))+r' $\\pm$ '+str(np.round(std,2)))\n",
    "    \n",
    "    plt.vlines([mean],ymin=0,ymax=np.max(h[0])*1.2,colors=hclrs[n],label='_0')\n",
    "    plt.vlines([mean+std],ymin=0,ymax=np.max(h[0])*1.2,linestyles=['dashed'],colors=hclrs[n],label='_0')\n",
    "    plt.vlines([mean-std],ymin=0,ymax=np.max(h[0])*1.2,linestyles=['dashed'],colors=hclrs[n],label='_0')\n",
    "    plt.text(x=mean*1.02,y=np.max(h[0])*1.15,s=str(np.round(mean,2)),color=hclrs[n])\n",
    "\n",
    "    plt.legend()\n",
    "plt.xlabel('Composition (atomic %)')\n",
    "\n",
    "plt.savefig(savefolder+r'\\06_histogram.png')\n",
    "plt.savefig(savefolder+r'\\06_histogram.svg')"
   ]
  }
 ],
 "metadata": {
  "kernelspec": {
   "display_name": "Python 3",
   "language": "python",
   "name": "python3"
  },
  "language_info": {
   "codemirror_mode": {
    "name": "ipython",
    "version": 3
   },
   "file_extension": ".py",
   "mimetype": "text/x-python",
   "name": "python",
   "nbconvert_exporter": "python",
   "pygments_lexer": "ipython3",
   "version": "3.7.5"
  },
  "latex_envs": {
   "LaTeX_envs_menu_present": true,
   "autoclose": true,
   "autocomplete": true,
   "bibliofile": "biblio.bib",
   "cite_by": "apalike",
   "current_citInitial": 1,
   "eqLabelWithNumbers": true,
   "eqNumInitial": 1,
   "hotkeys": {
    "equation": "Ctrl-E",
    "itemize": "Ctrl-I"
   },
   "labels_anchors": false,
   "latex_user_defs": false,
   "report_style_numbering": false,
   "user_envs_cfg": false
  }
 },
 "nbformat": 4,
 "nbformat_minor": 2
}
